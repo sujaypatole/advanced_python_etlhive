{
 "cells": [
  {
   "cell_type": "markdown",
   "metadata": {},
   "source": [
    "### Functions - Variadic Functions"
   ]
  },
  {
   "cell_type": "markdown",
   "metadata": {},
   "source": [
    "##### Type hinting and docstring is optional but its considered as best practice"
   ]
  },
  {
   "cell_type": "code",
   "execution_count": 1,
   "metadata": {},
   "outputs": [],
   "source": [
    "def multiply(a:int|float, b:int|float)-> int|float: # This way is also called as type hinting\n",
    "   \"\"\"\n",
    "   This function multiplies the two numbers\n",
    "   Output is int or float\n",
    "   \"\"\"\n",
    "   m = a*b\n",
    "   return m"
   ]
  },
  {
   "cell_type": "code",
   "execution_count": 2,
   "metadata": {},
   "outputs": [
    {
     "data": {
      "text/plain": [
       "12"
      ]
     },
     "execution_count": 2,
     "metadata": {},
     "output_type": "execute_result"
    }
   ],
   "source": [
    "# Arguments \n",
    "multiply(3,4)"
   ]
  },
  {
   "cell_type": "code",
   "execution_count": 3,
   "metadata": {},
   "outputs": [
    {
     "data": {
      "text/plain": [
       "50.0"
      ]
     },
     "execution_count": 3,
     "metadata": {},
     "output_type": "execute_result"
    }
   ],
   "source": [
    "# Keword arguments\n",
    "multiply(a=12.5, b=4)"
   ]
  },
  {
   "cell_type": "code",
   "execution_count": 4,
   "metadata": {},
   "outputs": [
    {
     "ename": "TypeError",
     "evalue": "multiply() takes 2 positional arguments but 3 were given",
     "output_type": "error",
     "traceback": [
      "\u001b[1;31m---------------------------------------------------------------------------\u001b[0m",
      "\u001b[1;31mTypeError\u001b[0m                                 Traceback (most recent call last)",
      "Cell \u001b[1;32mIn[4], line 2\u001b[0m\n\u001b[0;32m      1\u001b[0m \u001b[38;5;66;03m# We cannot call the multiply function using 3 or more arguments or less than 2 arguments\u001b[39;00m\n\u001b[1;32m----> 2\u001b[0m \u001b[43mmultiply\u001b[49m\u001b[43m(\u001b[49m\u001b[38;5;241;43m2\u001b[39;49m\u001b[43m,\u001b[49m\u001b[38;5;241;43m3\u001b[39;49m\u001b[43m,\u001b[49m\u001b[38;5;241;43m4\u001b[39;49m\u001b[43m)\u001b[49m\n",
      "\u001b[1;31mTypeError\u001b[0m: multiply() takes 2 positional arguments but 3 were given"
     ]
    }
   ],
   "source": [
    "# We cannot call the multiply function using 3 or more arguments or less than 2 arguments\n",
    "multiply(2,3,4)"
   ]
  },
  {
   "cell_type": "code",
   "execution_count": 5,
   "metadata": {},
   "outputs": [
    {
     "ename": "TypeError",
     "evalue": "multiply() missing 1 required positional argument: 'b'",
     "output_type": "error",
     "traceback": [
      "\u001b[1;31m---------------------------------------------------------------------------\u001b[0m",
      "\u001b[1;31mTypeError\u001b[0m                                 Traceback (most recent call last)",
      "Cell \u001b[1;32mIn[5], line 1\u001b[0m\n\u001b[1;32m----> 1\u001b[0m \u001b[43mmultiply\u001b[49m\u001b[43m(\u001b[49m\u001b[38;5;241;43m3\u001b[39;49m\u001b[43m)\u001b[49m\n",
      "\u001b[1;31mTypeError\u001b[0m: multiply() missing 1 required positional argument: 'b'"
     ]
    }
   ],
   "source": [
    "multiply(3)"
   ]
  },
  {
   "cell_type": "markdown",
   "metadata": {},
   "source": [
    "#### Hence we use variadic functions\n",
    "##### We want flexibility in number of input arguments\n",
    "*args - this acts like tuple"
   ]
  },
  {
   "cell_type": "code",
   "execution_count": 6,
   "metadata": {},
   "outputs": [],
   "source": [
    "def func1(*args): # Here *args acts as tuple\n",
    "   print(args)\n",
    "   print(type(args))\n",
    "   for i in args:\n",
    "      print(f\"i: {i}\")"
   ]
  },
  {
   "cell_type": "code",
   "execution_count": 7,
   "metadata": {},
   "outputs": [
    {
     "name": "stdout",
     "output_type": "stream",
     "text": [
      "(1, 2, 'Example')\n",
      "<class 'tuple'>\n",
      "i: 1\n",
      "i: 2\n",
      "i: Example\n"
     ]
    }
   ],
   "source": [
    "func1(1,2,\"Example\")"
   ]
  },
  {
   "cell_type": "code",
   "execution_count": 8,
   "metadata": {},
   "outputs": [
    {
     "name": "stdout",
     "output_type": "stream",
     "text": [
      "(1, 2, False, True, 'A', 14.5, 12.5)\n",
      "<class 'tuple'>\n",
      "i: 1\n",
      "i: 2\n",
      "i: False\n",
      "i: True\n",
      "i: A\n",
      "i: 14.5\n",
      "i: 12.5\n"
     ]
    }
   ],
   "source": [
    "func1(1,2,False,True,\"A\",14.5,12.5)"
   ]
  },
  {
   "cell_type": "code",
   "execution_count": 9,
   "metadata": {},
   "outputs": [
    {
     "name": "stdout",
     "output_type": "stream",
     "text": [
      "(1,)\n",
      "<class 'tuple'>\n",
      "i: 1\n"
     ]
    }
   ],
   "source": [
    "func1(1)"
   ]
  },
  {
   "cell_type": "code",
   "execution_count": 10,
   "metadata": {},
   "outputs": [],
   "source": [
    "b=[1,2,\"Example\",4.5,11.2, False]"
   ]
  },
  {
   "cell_type": "code",
   "execution_count": 11,
   "metadata": {},
   "outputs": [
    {
     "name": "stdout",
     "output_type": "stream",
     "text": [
      "(1, 2, 'Example', 4.5, 11.2, False)\n",
      "<class 'tuple'>\n",
      "i: 1\n",
      "i: 2\n",
      "i: Example\n",
      "i: 4.5\n",
      "i: 11.2\n",
      "i: False\n"
     ]
    }
   ],
   "source": [
    "func1(*b) # Whenever we use * along with list it unpacks the list"
   ]
  },
  {
   "cell_type": "markdown",
   "metadata": {},
   "source": [
    "### Multiplying multiple numbers"
   ]
  },
  {
   "cell_type": "code",
   "execution_count": 12,
   "metadata": {},
   "outputs": [],
   "source": [
    "def product(*args):\n",
    "   # Initialize the product to 1\n",
    "   p=1\n",
    "\n",
    "   #Apply for loop on args\n",
    "   for i in args:\n",
    "      p=p*i\n",
    "\n",
    "   # Return the product\n",
    "   return p\n"
   ]
  },
  {
   "cell_type": "code",
   "execution_count": 13,
   "metadata": {},
   "outputs": [
    {
     "data": {
      "text/plain": [
       "15"
      ]
     },
     "execution_count": 13,
     "metadata": {},
     "output_type": "execute_result"
    }
   ],
   "source": [
    "product(3,5)"
   ]
  },
  {
   "cell_type": "code",
   "execution_count": 14,
   "metadata": {},
   "outputs": [
    {
     "data": {
      "text/plain": [
       "16.2"
      ]
     },
     "execution_count": 14,
     "metadata": {},
     "output_type": "execute_result"
    }
   ],
   "source": [
    "product(4.5, 1.2,3)"
   ]
  },
  {
   "cell_type": "code",
   "execution_count": 15,
   "metadata": {},
   "outputs": [
    {
     "data": {
      "text/plain": [
       "23760"
      ]
     },
     "execution_count": 15,
     "metadata": {},
     "output_type": "execute_result"
    }
   ],
   "source": [
    "product(1,2,3,4,9,10,11)"
   ]
  },
  {
   "cell_type": "code",
   "execution_count": 16,
   "metadata": {},
   "outputs": [
    {
     "name": "stdout",
     "output_type": "stream",
     "text": [
      "[1, 2, 3, 4, 5, 6, 7, 8, 9, 10, 11, 12, 13, 14, 15, 16, 17, 18, 19, 20, 21, 22, 23, 24]\n"
     ]
    }
   ],
   "source": [
    "a = list(range(1,25))\n",
    "print(a)"
   ]
  },
  {
   "cell_type": "code",
   "execution_count": 17,
   "metadata": {},
   "outputs": [
    {
     "data": {
      "text/plain": [
       "list"
      ]
     },
     "execution_count": 17,
     "metadata": {},
     "output_type": "execute_result"
    }
   ],
   "source": [
    "type(a)"
   ]
  },
  {
   "cell_type": "code",
   "execution_count": 18,
   "metadata": {},
   "outputs": [
    {
     "data": {
      "text/plain": [
       "620448401733239439360000"
      ]
     },
     "execution_count": 18,
     "metadata": {},
     "output_type": "execute_result"
    }
   ],
   "source": [
    "product(*a) # list unpacking"
   ]
  },
  {
   "cell_type": "code",
   "execution_count": null,
   "metadata": {},
   "outputs": [],
   "source": []
  },
  {
   "cell_type": "markdown",
   "metadata": {},
   "source": [
    "### Billing Example\n",
    "1. Input [(productname, price, qty),(...)]\n",
    "2. Perform billing and add 18% tax on base total"
   ]
  },
  {
   "cell_type": "code",
   "execution_count": 19,
   "metadata": {},
   "outputs": [],
   "source": [
    "c1 = [\n",
    "   (\"Mobile\", 45000, 1),\n",
    "   (\"Screen Guard\", 1000, 2),\n",
    "   (\"Mobile Cover\", 300, 2)\n",
    "]"
   ]
  },
  {
   "cell_type": "code",
   "execution_count": 20,
   "metadata": {},
   "outputs": [
    {
     "data": {
      "text/plain": [
       "[('Mobile', 45000, 1), ('Screen Guard', 1000, 2), ('Mobile Cover', 300, 2)]"
      ]
     },
     "execution_count": 20,
     "metadata": {},
     "output_type": "execute_result"
    }
   ],
   "source": [
    "c1"
   ]
  },
  {
   "cell_type": "code",
   "execution_count": 21,
   "metadata": {},
   "outputs": [],
   "source": [
    "def billing(tax_rate: int|float, *args):\n",
    "   # Initialize base total to 0\n",
    "   base_total = 0\n",
    "\n",
    "   #Apply for loop on args\n",
    "   for name, price, qty in args:\n",
    "      item_total = price * qty\n",
    "      base_total = base_total + item_total\n",
    "      print(f\"Product Name: {name}, Price:{price} INR, Qty: {qty} Nos\")\n",
    "      print(f\"Item total: {item_total:.2f} INR\")\n",
    "      print(\"\\n============================================================\")\n",
    "\n",
    "   # Applu tax rate on base total\n",
    "   tax = (tax_rate/100)*base_total\n",
    "\n",
    "   # Calculate final amount\n",
    "   final_total = base_total + tax\n",
    "\n",
    "   # Print the tax and final total\n",
    "   print(f\"Tax: {tax:.2f} INR\")\n",
    "   print(f\"Final Total: {final_total:.2f} INR\")\n",
    "\n",
    "   return final_total"
   ]
  },
  {
   "cell_type": "code",
   "execution_count": 22,
   "metadata": {},
   "outputs": [
    {
     "name": "stdout",
     "output_type": "stream",
     "text": [
      "Product Name: Mobile, Price:45000 INR, Qty: 1 Nos\n",
      "Item total: 45000.00 INR\n",
      "\n",
      "============================================================\n",
      "Product Name: Screen Guard, Price:1000 INR, Qty: 2 Nos\n",
      "Item total: 2000.00 INR\n",
      "\n",
      "============================================================\n",
      "Product Name: Mobile Cover, Price:300 INR, Qty: 2 Nos\n",
      "Item total: 600.00 INR\n",
      "\n",
      "============================================================\n",
      "Tax: 8568.00 INR\n",
      "Final Total: 56168.00 INR\n"
     ]
    }
   ],
   "source": [
    "bill1 = billing(18, *c1)"
   ]
  },
  {
   "cell_type": "code",
   "execution_count": 23,
   "metadata": {},
   "outputs": [
    {
     "data": {
      "text/plain": [
       "56168.0"
      ]
     },
     "execution_count": 23,
     "metadata": {},
     "output_type": "execute_result"
    }
   ],
   "source": [
    "bill1"
   ]
  },
  {
   "cell_type": "code",
   "execution_count": 24,
   "metadata": {},
   "outputs": [
    {
     "name": "stdout",
     "output_type": "stream",
     "text": [
      "Product Name: Laptop, Price:67000 INR, Qty: 2 Nos\n",
      "Item total: 134000.00 INR\n",
      "\n",
      "============================================================\n",
      "Product Name: Mouse, Price:500 INR, Qty: 4 Nos\n",
      "Item total: 2000.00 INR\n",
      "\n",
      "============================================================\n",
      "Product Name: Keyboard, Price:1200 INR, Qty: 1 Nos\n",
      "Item total: 1200.00 INR\n",
      "\n",
      "============================================================\n",
      "Product Name: VR headset, Price:12000 INR, Qty: 1 Nos\n",
      "Item total: 12000.00 INR\n",
      "\n",
      "============================================================\n",
      "Tax: 26856.00 INR\n",
      "Final Total: 176056.00 INR\n"
     ]
    }
   ],
   "source": [
    "bill2 = billing(\n",
    "   18,\n",
    "   (\"Laptop\", 67000, 2),\n",
    "   (\"Mouse\", 500, 4),\n",
    "   (\"Keyboard\", 1200, 1),\n",
    "   (\"VR headset\", 12000, 1)\n",
    ")"
   ]
  },
  {
   "cell_type": "code",
   "execution_count": 25,
   "metadata": {},
   "outputs": [
    {
     "data": {
      "text/plain": [
       "176056.0"
      ]
     },
     "execution_count": 25,
     "metadata": {},
     "output_type": "execute_result"
    }
   ],
   "source": [
    "bill2"
   ]
  },
  {
   "cell_type": "markdown",
   "metadata": {},
   "source": [
    "### Declare kwargs in python\n",
    "**kwargs - This acts like a dictionary in Python"
   ]
  },
  {
   "cell_type": "code",
   "execution_count": 26,
   "metadata": {},
   "outputs": [],
   "source": [
    "def func2(**kwargs):\n",
    "   print(kwargs)\n",
    "   print(type(kwargs))\n",
    "   for key, value in kwargs.items():\n",
    "      print(f\"Key: {key}, Value: {value}\")"
   ]
  },
  {
   "cell_type": "code",
   "execution_count": 28,
   "metadata": {},
   "outputs": [
    {
     "name": "stdout",
     "output_type": "stream",
     "text": [
      "{'name': 'Rahul, age=28'}\n",
      "<class 'dict'>\n",
      "Key: name, Value: Rahul, age=28\n"
     ]
    }
   ],
   "source": [
    "func2(name=\"Rahul, age=28\")"
   ]
  },
  {
   "cell_type": "code",
   "execution_count": 27,
   "metadata": {},
   "outputs": [
    {
     "name": "stdout",
     "output_type": "stream",
     "text": [
      "{'name': 'Aditi', 'age': 32, 'email': 'aditi@gmail.com', 'blood_group': 'A+ve'}\n",
      "<class 'dict'>\n",
      "Key: name, Value: Aditi\n",
      "Key: age, Value: 32\n",
      "Key: email, Value: aditi@gmail.com\n",
      "Key: blood_group, Value: A+ve\n"
     ]
    }
   ],
   "source": [
    "func2(name=\"Aditi\", age=32, email=\"aditi@gmail.com\", blood_group=\"A+ve\")"
   ]
  },
  {
   "cell_type": "markdown",
   "metadata": {},
   "source": [
    "### Using the kwargs to creat users with varied information"
   ]
  },
  {
   "cell_type": "code",
   "execution_count": 29,
   "metadata": {},
   "outputs": [],
   "source": [
    "def create_user(**kwargs):\n",
    "   user = {\n",
    "      \"name\":\"Not Available\",\n",
    "      \"age\":\"Not Available\",\n",
    "      \"occupation\":\"Not Available\",\n",
    "      \"email\":\"Not Available\"\n",
    "   }\n",
    "\n",
    "   user.update(kwargs)\n",
    "   return user"
   ]
  },
  {
   "cell_type": "code",
   "execution_count": 30,
   "metadata": {},
   "outputs": [],
   "source": [
    "u1 = create_user(name=\"Rakesh\", age=32)"
   ]
  },
  {
   "cell_type": "code",
   "execution_count": 31,
   "metadata": {},
   "outputs": [
    {
     "data": {
      "text/plain": [
       "{'name': 'Rakesh',\n",
       " 'age': 32,\n",
       " 'occupation': 'Not Available',\n",
       " 'email': 'Not Available'}"
      ]
     },
     "execution_count": 31,
     "metadata": {},
     "output_type": "execute_result"
    }
   ],
   "source": [
    "u1"
   ]
  },
  {
   "cell_type": "code",
   "execution_count": 34,
   "metadata": {},
   "outputs": [],
   "source": [
    "u2 = create_user(\n",
    "   name = \"Tejas\",\n",
    "   age =  25,\n",
    "   occupation =\"HR\",\n",
    "   email = \"tejas@gmail.com\",\n",
    "   contact = 9876543210,\n",
    "   blood_group = \"B+ve\"\n",
    ")"
   ]
  },
  {
   "cell_type": "code",
   "execution_count": 35,
   "metadata": {},
   "outputs": [
    {
     "data": {
      "text/plain": [
       "{'name': 'Tejas',\n",
       " 'age': 25,\n",
       " 'occupation': 'HR',\n",
       " 'email': 'tejas@gmail.com',\n",
       " 'contact': 9876543210,\n",
       " 'blood_group': 'B+ve'}"
      ]
     },
     "execution_count": 35,
     "metadata": {},
     "output_type": "execute_result"
    }
   ],
   "source": [
    "u2"
   ]
  },
  {
   "cell_type": "code",
   "execution_count": null,
   "metadata": {},
   "outputs": [],
   "source": []
  }
 ],
 "metadata": {
  "kernelspec": {
   "display_name": "venv",
   "language": "python",
   "name": "python3"
  },
  "language_info": {
   "codemirror_mode": {
    "name": "ipython",
    "version": 3
   },
   "file_extension": ".py",
   "mimetype": "text/x-python",
   "name": "python",
   "nbconvert_exporter": "python",
   "pygments_lexer": "ipython3",
   "version": "3.10.0"
  }
 },
 "nbformat": 4,
 "nbformat_minor": 2
}
