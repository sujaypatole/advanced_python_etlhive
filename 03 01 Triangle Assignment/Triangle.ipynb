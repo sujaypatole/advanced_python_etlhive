{
 "cells": [
  {
   "cell_type": "code",
   "execution_count": 1,
   "metadata": {},
   "outputs": [],
   "source": [
    "from dataclasses import dataclass #dataclass is decorator"
   ]
  },
  {
   "cell_type": "code",
   "execution_count": 76,
   "metadata": {},
   "outputs": [],
   "source": [
    "@dataclass\n",
    "class Triangle:\n",
    "\n",
    "   side1:float | int\n",
    "   side2:float | int\n",
    "   side3:float | int\n",
    "\n",
    "   def __post_init__(self):\n",
    "      errors = []\n",
    "\n",
    "      if not isinstance(self.side1, (float, int)):\n",
    "         errors.append(\"Side-1 should be a float or int\")\n",
    "      elif not isinstance(self.side2, (float, int)):\n",
    "         errors.append(\"Side-2 should be float or int\")\n",
    "      elif not isinstance(self.side3, (float, int)):\n",
    "         errors.append(\"Side-3 should be float or int\")\n",
    "\n",
    "      if errors:\n",
    "         raise ValueError(\"\\n\".join(errors))\n",
    "      \n",
    "      if not (\n",
    "         (self.side1 + self.side2) > self.side3 and\n",
    "         (self.side2 + self.side3) > self.side1 and\n",
    "         (self.side3 + self.side1) > self.side2\n",
    "      ):\n",
    "         raise ValueError(f\"\\nCannot create triangle with {self.side1}, {self.side2}, and {self.side3} as sum of any two sides of triangle should be greater than the third.\")\n",
    "\n",
    "   def is_triangle(self):\n",
    "      # Sum of any two sides should be greater than the third side\n",
    "      errmsg = []\n",
    "      if ((self.side1 + self.side2) > self.side3 \\\n",
    "      and (self.side2 + self.side3) > self.side1 \\\n",
    "      and (self.side3 + self.side1) > self.side2):\n",
    "         return True\n",
    "      else:\n",
    "         return False\n",
    "\n",
    "   def perimeter_of_triangle(self):\n",
    "      # Check if the object is traingle\n",
    "\n",
    "      if self.is_triangle():\n",
    "         return self.side1 + self.side2 + self.side3\n",
    "      else:\n",
    "         return 0\n",
    "\n",
    "   def area_of_triangle(self):\n",
    "      # Check if the object is triangle\n",
    "\n",
    "      if self.is_triangle():\n",
    "         semi_ = self.perimeter_of_triangle()/2\n",
    "         a = semi_ - self.side1\n",
    "         b = semi_ - self.side2\n",
    "         c = semi_ - self.side3\n",
    "\n",
    "         print(f\"semi_: {semi_:.2f}\")\n",
    "         print(f\"a: {a:.2f}\")\n",
    "         print(f\"b: {b:.2f}\")\n",
    "         print(f\"c: {c:.2f}\")\n",
    "\n",
    "         area_ = (semi_ * a * b * c)**(1/2)\n",
    "         print(f\"area_: {area_:.2f}\")\n",
    "\n",
    "         return area_\n",
    "      else:\n",
    "         return 0\n",
    "\n",
    "   \n",
    "   "
   ]
  },
  {
   "cell_type": "code",
   "execution_count": 77,
   "metadata": {},
   "outputs": [
    {
     "ename": "ValueError",
     "evalue": "\nCannot create triangle with 2, 3, and 6 as sum of any two sides of triangle should be greater than the third.",
     "output_type": "error",
     "traceback": [
      "\u001b[1;31m---------------------------------------------------------------------------\u001b[0m",
      "\u001b[1;31mValueError\u001b[0m                                Traceback (most recent call last)",
      "Cell \u001b[1;32mIn[77], line 1\u001b[0m\n\u001b[1;32m----> 1\u001b[0m t1 \u001b[38;5;241m=\u001b[39m \u001b[43mTriangle\u001b[49m\u001b[43m(\u001b[49m\u001b[43mside1\u001b[49m\u001b[38;5;241;43m=\u001b[39;49m\u001b[38;5;241;43m2\u001b[39;49m\u001b[43m,\u001b[49m\u001b[43m \u001b[49m\u001b[43mside2\u001b[49m\u001b[38;5;241;43m=\u001b[39;49m\u001b[38;5;241;43m3\u001b[39;49m\u001b[43m,\u001b[49m\u001b[43m \u001b[49m\u001b[43mside3\u001b[49m\u001b[38;5;241;43m=\u001b[39;49m\u001b[38;5;241;43m6\u001b[39;49m\u001b[43m)\u001b[49m\n",
      "File \u001b[1;32m<string>:6\u001b[0m, in \u001b[0;36m__init__\u001b[1;34m(self, side1, side2, side3)\u001b[0m\n",
      "Cell \u001b[1;32mIn[76], line 26\u001b[0m, in \u001b[0;36mTriangle.__post_init__\u001b[1;34m(self)\u001b[0m\n\u001b[0;32m     19\u001b[0m    \u001b[38;5;28;01mraise\u001b[39;00m \u001b[38;5;167;01mValueError\u001b[39;00m(\u001b[38;5;124m\"\u001b[39m\u001b[38;5;130;01m\\n\u001b[39;00m\u001b[38;5;124m\"\u001b[39m\u001b[38;5;241m.\u001b[39mjoin(errors))\n\u001b[0;32m     21\u001b[0m \u001b[38;5;28;01mif\u001b[39;00m \u001b[38;5;129;01mnot\u001b[39;00m (\n\u001b[0;32m     22\u001b[0m    (\u001b[38;5;28mself\u001b[39m\u001b[38;5;241m.\u001b[39mside1 \u001b[38;5;241m+\u001b[39m \u001b[38;5;28mself\u001b[39m\u001b[38;5;241m.\u001b[39mside2) \u001b[38;5;241m>\u001b[39m \u001b[38;5;28mself\u001b[39m\u001b[38;5;241m.\u001b[39mside3 \u001b[38;5;129;01mand\u001b[39;00m\n\u001b[0;32m     23\u001b[0m    (\u001b[38;5;28mself\u001b[39m\u001b[38;5;241m.\u001b[39mside2 \u001b[38;5;241m+\u001b[39m \u001b[38;5;28mself\u001b[39m\u001b[38;5;241m.\u001b[39mside3) \u001b[38;5;241m>\u001b[39m \u001b[38;5;28mself\u001b[39m\u001b[38;5;241m.\u001b[39mside1 \u001b[38;5;129;01mand\u001b[39;00m\n\u001b[0;32m     24\u001b[0m    (\u001b[38;5;28mself\u001b[39m\u001b[38;5;241m.\u001b[39mside3 \u001b[38;5;241m+\u001b[39m \u001b[38;5;28mself\u001b[39m\u001b[38;5;241m.\u001b[39mside1) \u001b[38;5;241m>\u001b[39m \u001b[38;5;28mself\u001b[39m\u001b[38;5;241m.\u001b[39mside2\n\u001b[0;32m     25\u001b[0m ):\n\u001b[1;32m---> 26\u001b[0m    \u001b[38;5;28;01mraise\u001b[39;00m \u001b[38;5;167;01mValueError\u001b[39;00m(\u001b[38;5;124mf\u001b[39m\u001b[38;5;124m\"\u001b[39m\u001b[38;5;130;01m\\n\u001b[39;00m\u001b[38;5;124mCannot create triangle with \u001b[39m\u001b[38;5;132;01m{\u001b[39;00m\u001b[38;5;28mself\u001b[39m\u001b[38;5;241m.\u001b[39mside1\u001b[38;5;132;01m}\u001b[39;00m\u001b[38;5;124m, \u001b[39m\u001b[38;5;132;01m{\u001b[39;00m\u001b[38;5;28mself\u001b[39m\u001b[38;5;241m.\u001b[39mside2\u001b[38;5;132;01m}\u001b[39;00m\u001b[38;5;124m, and \u001b[39m\u001b[38;5;132;01m{\u001b[39;00m\u001b[38;5;28mself\u001b[39m\u001b[38;5;241m.\u001b[39mside3\u001b[38;5;132;01m}\u001b[39;00m\u001b[38;5;124m as sum of any two sides of triangle should be greater than the third.\u001b[39m\u001b[38;5;124m\"\u001b[39m)\n",
      "\u001b[1;31mValueError\u001b[0m: \nCannot create triangle with 2, 3, and 6 as sum of any two sides of triangle should be greater than the third."
     ]
    }
   ],
   "source": [
    "t1 = Triangle(side1=2, side2=3, side3=6)"
   ]
  },
  {
   "cell_type": "code",
   "execution_count": 78,
   "metadata": {},
   "outputs": [
    {
     "data": {
      "text/plain": [
       "Triangle(side1=2, side2=3, side3=6)"
      ]
     },
     "execution_count": 78,
     "metadata": {},
     "output_type": "execute_result"
    }
   ],
   "source": [
    "t1"
   ]
  },
  {
   "cell_type": "code",
   "execution_count": 71,
   "metadata": {},
   "outputs": [
    {
     "data": {
      "text/plain": [
       "False"
      ]
     },
     "execution_count": 71,
     "metadata": {},
     "output_type": "execute_result"
    }
   ],
   "source": [
    "t1.is_triangle()"
   ]
  },
  {
   "cell_type": "code",
   "execution_count": 79,
   "metadata": {},
   "outputs": [],
   "source": [
    "t2 = Triangle(2,3,4)"
   ]
  },
  {
   "cell_type": "code",
   "execution_count": 80,
   "metadata": {},
   "outputs": [
    {
     "data": {
      "text/plain": [
       "True"
      ]
     },
     "execution_count": 80,
     "metadata": {},
     "output_type": "execute_result"
    }
   ],
   "source": [
    "t2.is_triangle()"
   ]
  },
  {
   "cell_type": "code",
   "execution_count": 81,
   "metadata": {},
   "outputs": [
    {
     "data": {
      "text/plain": [
       "9"
      ]
     },
     "execution_count": 81,
     "metadata": {},
     "output_type": "execute_result"
    }
   ],
   "source": [
    "t2.perimeter_of_triangle()"
   ]
  },
  {
   "cell_type": "code",
   "execution_count": 63,
   "metadata": {},
   "outputs": [
    {
     "name": "stdout",
     "output_type": "stream",
     "text": [
      "semi_: 4.50\n",
      "a: 2.50\n",
      "b: 1.50\n",
      "c: 0.50\n",
      "area_: 2.90\n"
     ]
    },
    {
     "data": {
      "text/plain": [
       "2.9047375096555625"
      ]
     },
     "execution_count": 63,
     "metadata": {},
     "output_type": "execute_result"
    }
   ],
   "source": [
    "t2.area_of_triangle()"
   ]
  },
  {
   "cell_type": "code",
   "execution_count": 82,
   "metadata": {},
   "outputs": [
    {
     "data": {
      "text/plain": [
       "0"
      ]
     },
     "execution_count": 82,
     "metadata": {},
     "output_type": "execute_result"
    }
   ],
   "source": [
    "t1.perimeter_of_triangle()"
   ]
  },
  {
   "cell_type": "code",
   "execution_count": 83,
   "metadata": {},
   "outputs": [
    {
     "data": {
      "text/plain": [
       "0"
      ]
     },
     "execution_count": 83,
     "metadata": {},
     "output_type": "execute_result"
    }
   ],
   "source": [
    "t1.area_of_triangle()"
   ]
  },
  {
   "cell_type": "code",
   "execution_count": null,
   "metadata": {},
   "outputs": [],
   "source": []
  }
 ],
 "metadata": {
  "kernelspec": {
   "display_name": "venv",
   "language": "python",
   "name": "python3"
  },
  "language_info": {
   "codemirror_mode": {
    "name": "ipython",
    "version": 3
   },
   "file_extension": ".py",
   "mimetype": "text/x-python",
   "name": "python",
   "nbconvert_exporter": "python",
   "pygments_lexer": "ipython3",
   "version": "3.10.0"
  }
 },
 "nbformat": 4,
 "nbformat_minor": 2
}
